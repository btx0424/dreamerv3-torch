{
 "cells": [
  {
   "cell_type": "code",
   "execution_count": 6,
   "metadata": {},
   "outputs": [],
   "source": [
    "import pickle\n",
    "\n",
    "with open(\"/media/aa/hdd1/GenSim/data/align-balls-in-colored-boxes-train/action/000001-2.pkl\", \"rb\") as f:\n",
    "    data = pickle.load(f)\n"
   ]
  },
  {
   "cell_type": "code",
   "execution_count": 4,
   "metadata": {},
   "outputs": [
    {
     "data": {
      "text/plain": [
       "[{'pose0': (array([0.36875   , 0.453125  , 0.04602051]), array([0, 0, 0, 1])),\n",
       "  'pose1': (array([0.46462467, 0.0484915 , 0.08602051]),\n",
       "   array([-0.        ,  0.        , -0.26074818,  0.96540684]))},\n",
       " {'pose0': (array([ 0.39375   , -0.06875   ,  0.04571533]),\n",
       "   array([0, 0, 0, 1])),\n",
       "  'pose1': (array([0.40664935, 0.19706205, 0.07672533]),\n",
       "   array([ 0.        ,  0.        ,  0.88072175, -0.47363415]))},\n",
       " {'pose0': (array([ 0.6125  , -0.371875,  0.046875]), array([0, 0, 0, 1])),\n",
       "  'pose1': (array([0.52481806, 0.29637456, 0.077885  ]),\n",
       "   array([ 0.        ,  0.        , -0.34176916,  0.93978393]))},\n",
       " {'pose0': (array([ 0.428125  , -0.3       ,  0.05163574]),\n",
       "   array([0, 0, 0, 1])),\n",
       "  'pose1': (array([ 0.50370795, -0.35782328,  0.08264574]),\n",
       "   array([0.        , 0.        , 0.23512357, 0.97196549]))},\n",
       " None]"
      ]
     },
     "execution_count": 4,
     "metadata": {},
     "output_type": "execute_result"
    }
   ],
   "source": [
    "data"
   ]
  }
 ],
 "metadata": {
  "kernelspec": {
   "display_name": "xbt",
   "language": "python",
   "name": "python3"
  },
  "language_info": {
   "codemirror_mode": {
    "name": "ipython",
    "version": 3
   },
   "file_extension": ".py",
   "mimetype": "text/x-python",
   "name": "python",
   "nbconvert_exporter": "python",
   "pygments_lexer": "ipython3",
   "version": "3.10.13"
  }
 },
 "nbformat": 4,
 "nbformat_minor": 2
}
